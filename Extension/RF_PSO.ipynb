{
 "cells": [
  {
   "cell_type": "code",
   "execution_count": 5,
   "metadata": {},
   "outputs": [],
   "source": [
    "import numpy as np\n",
    "import pandas as pd\n",
    "from sklearn.model_selection import cross_val_score\n",
    "from sklearn.model_selection import train_test_split\n",
    "import pyswarms as ps\n",
    "\n"
   ]
  },
  {
   "cell_type": "code",
   "execution_count": 6,
   "metadata": {},
   "outputs": [],
   "source": [
    "datasetPath = \"Training_Dataset.csv\"\n",
    "dataset_data = pd.read_csv(datasetPath, sep=',', header=0, na_filter=True)\n",
    "y = dataset_data.iloc[:,-1]\n",
    "y = y.values\n",
    "X = dataset_data.drop(labels='Result', axis=1)\n",
    "X = X.values"
   ]
  },
  {
   "cell_type": "code",
   "execution_count": 7,
   "metadata": {},
   "outputs": [
    {
     "name": "stdout",
     "output_type": "stream",
     "text": [
      "0.9315646668676515\n"
     ]
    }
   ],
   "source": [
    "from sklearn import linear_model\n",
    "from sklearn.ensemble import RandomForestClassifier\n",
    "\n",
    "X_train, X_test, y_train, y_test = train_test_split(X, y, test_size=0.3)\n",
    "   \n",
    "clf=RandomForestClassifier(n_estimators=50,max_depth =5)\n",
    "\n",
    "from sklearn import metrics\n",
    "\n",
    "clf.fit(X_train, y_train)\n",
    "predictions = clf.predict(X_test)\n",
    "accuracy = metrics.accuracy_score(y_test, predictions)\n",
    "print(accuracy)"
   ]
  },
  {
   "cell_type": "code",
   "execution_count": 8,
   "metadata": {},
   "outputs": [],
   "source": [
    "clf = linear_model.LogisticRegression()\n",
    "\n",
    "\n",
    "def f_per_particle(m, alpha):\n",
    "    total_features = X.shape[1]\n",
    "    if np.count_nonzero(m) == 0:\n",
    "        X_subset = X\n",
    "    else:\n",
    "        X_subset = X[:,m==1]\n",
    "\n",
    "    clf.fit(X_subset, y)\n",
    "    P = (clf.predict(X_subset) == y).mean()\n",
    "    j = (alpha * (1.0 - P)\n",
    "        + (1.0 - alpha) * (1 - (X_subset.shape[1] / total_features)))\n",
    "    return j"
   ]
  },
  {
   "cell_type": "code",
   "execution_count": 9,
   "metadata": {},
   "outputs": [],
   "source": [
    "def f(x, alpha=0.9):\n",
    "    n_particles = x.shape[0]\n",
    "    j = [f_per_particle(x[i], alpha) for i in range(n_particles)]\n",
    "    return np.array(j)"
   ]
  },
  {
   "cell_type": "code",
   "execution_count": 10,
   "metadata": {},
   "outputs": [],
   "source": [
    "#!pip install pyswarms"
   ]
  },
  {
   "cell_type": "code",
   "execution_count": 15,
   "metadata": {},
   "outputs": [
    {
     "name": "stderr",
     "output_type": "stream",
     "text": [
      "2021-03-27 12:57:36,574 - pyswarms.discrete.binary - INFO - Optimize for 25 iters with {'c1': 2, 'c2': 2, 'w': 0.3, 'k': 20, 'p': 2}\n",
      "pyswarms.discrete.binary:   0%|                                                                                   |0/25"
     ]
    },
    {
     "name": "stdout",
     "output_type": "stream",
     "text": [
      "Started at:  2021-03-27 12:57:36.564419\n"
     ]
    },
    {
     "name": "stderr",
     "output_type": "stream",
     "text": [
      "pyswarms.discrete.binary: 100%|████████████████████████████████████████████████████████████████|25/25, best_cost=0.0918\n",
      "2021-03-27 12:59:44,176 - pyswarms.discrete.binary - INFO - Optimization finished | best cost: 0.09180009045680684, best pos: [1 1 0 0 0 1 1 1 1 1 1 1 1 1 1 0 1 1 1 1 0 0 1 1 1 1 1 1 1 0]\n"
     ]
    },
    {
     "name": "stdout",
     "output_type": "stream",
     "text": [
      "Finished at:  2021-03-27 12:59:44.178965\n",
      "Total time spent:  0:02:07.614546\n"
     ]
    }
   ],
   "source": [
    "from datetime import datetime as dt\n",
    "import time\n",
    "\n",
    "start = dt.now()\n",
    "print(\"Started at: \", str(start))\n",
    "particleScore = list()\n",
    "particleSize = list()\n",
    "\n",
    "options = {'c1': 2, 'c2': 2, 'w':0.3, 'k': 20, 'p':2}\n",
    "\n",
    "\n",
    "dimensions = X.shape[1]\n",
    "optimizer = ps.discrete.BinaryPSO(n_particles= 30, dimensions=dimensions, options=options)\n",
    "\n",
    "\n",
    "cost, pos = optimizer.optimize(f, iters=25, verbose=2)\n",
    "\n",
    "end = dt.now()\n",
    "print(\"Finished at: \", str(end))\n",
    "total = end-start\n",
    "print(\"Total time spent: \", total)\n"
   ]
  },
  {
   "cell_type": "code",
   "execution_count": 14,
   "metadata": {},
   "outputs": [
    {
     "name": "stdout",
     "output_type": "stream",
     "text": [
      "20\n",
      "0.9541754597527886\n"
     ]
    }
   ],
   "source": [
    "\n",
    "X_selected_features = X[:,pos==1]\n",
    "print(len(X_selected_features[0]))\n",
    "\n",
    "X_train, X_test, y_train, y_test = train_test_split(X_selected_features, y, test_size=0.3)\n",
    "\n",
    "clf2 = RandomForestClassifier(n_estimators =50,max_depth =15)\n",
    "     \n",
    "\n",
    "from sklearn import metrics\n",
    "\n",
    "clf2.fit(X_train, y_train)\n",
    "predictions = clf2.predict(X_test)\n",
    "accuracy = metrics.accuracy_score(y_test, predictions)\n",
    "print(accuracy)"
   ]
  },
  {
   "cell_type": "code",
   "execution_count": 17,
   "metadata": {},
   "outputs": [
    {
     "name": "stdout",
     "output_type": "stream",
     "text": [
      "[[ 1  1 -1 ... -1  1 -1]\n",
      " [ 1  1 -1 ... -1  1  1]\n",
      " [ 0  1 -1 ... -1  1 -1]\n",
      " ...\n",
      " [-1  1 -1 ... -1  1  1]\n",
      " [-1  1 -1 ... -1  1  1]\n",
      " [-1  1 -1 ... -1 -1 -1]]\n"
     ]
    }
   ],
   "source": [
    "print(X_selected_features)\n",
    "np.savetxt('2darray.csv', X_selected_features, delimiter=',', fmt='%d')"
   ]
  },
  {
   "cell_type": "code",
   "execution_count": null,
   "metadata": {},
   "outputs": [],
   "source": [
    "\n"
   ]
  },
  {
   "cell_type": "code",
   "execution_count": null,
   "metadata": {},
   "outputs": [],
   "source": []
  },
  {
   "cell_type": "code",
   "execution_count": null,
   "metadata": {},
   "outputs": [],
   "source": []
  }
 ],
 "metadata": {
  "kernelspec": {
   "display_name": "Python 3",
   "language": "python",
   "name": "python3"
  },
  "language_info": {
   "codemirror_mode": {
    "name": "ipython",
    "version": 3
   },
   "file_extension": ".py",
   "mimetype": "text/x-python",
   "name": "python",
   "nbconvert_exporter": "python",
   "pygments_lexer": "ipython3",
   "version": "3.6.5"
  }
 },
 "nbformat": 4,
 "nbformat_minor": 2
}
